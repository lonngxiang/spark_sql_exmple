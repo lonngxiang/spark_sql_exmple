{
 "cells": [
  {
   "cell_type": "code",
   "execution_count": 1,
   "metadata": {},
   "outputs": [],
   "source": [
    "from pyspark import SparkContext, SparkConf\n",
    "from pyspark.sql import SparkSession\n",
    "import os\n",
    "os.environ[\"PYSPARK_PYTHON\"]=\"/Users/lonng/opt/anaconda3/python.app/Contents/MacOS/python\"\n"
   ]
  },
  {
   "cell_type": "code",
   "execution_count": 2,
   "metadata": {},
   "outputs": [],
   "source": [
    "\n",
    "spark = SparkSession \\\n",
    "    .builder \\\n",
    "    .appName(\"Python Spark SQL basic example\") \\\n",
    "    .config(\"spark.some.config.option\", \"some-value\") \\\n",
    "    .getOrCreate()\n",
    "\n",
    "sc = spark.sparkContext\n",
    "\n",
    "\n",
    "l = [('Alice', 1)]\n",
    "rdd = sc.parallelize(l)\n",
    "df_rdd2 = spark.createDataFrame(rdd,['name', 'age'])\n",
    "\n"
   ]
  },
  {
   "cell_type": "code",
   "execution_count": null,
   "metadata": {},
   "outputs": [],
   "source": [
    "spark.read."
   ]
  },
  {
   "cell_type": "code",
   "execution_count": 4,
   "metadata": {},
   "outputs": [
    {
     "name": "stdout",
     "output_type": "stream",
     "text": [
      "+-----+---+\n",
      "| name|age|\n",
      "+-----+---+\n",
      "|Alice|  1|\n",
      "+-----+---+\n",
      "\n"
     ]
    }
   ],
   "source": [
    "df_rdd2.show()"
   ]
  },
  {
   "cell_type": "code",
   "execution_count": 3,
   "metadata": {},
   "outputs": [
    {
     "data": {
      "text/plain": [
       "<bound method DataFrame.printSchema of DataFrame[name: string, age: bigint]>"
      ]
     },
     "execution_count": 3,
     "metadata": {},
     "output_type": "execute_result"
    }
   ],
   "source": [
    "df_rdd2.printSchema"
   ]
  },
  {
   "cell_type": "code",
   "execution_count": 4,
   "metadata": {},
   "outputs": [
    {
     "name": "stdout",
     "output_type": "stream",
     "text": [
      "+---+--------+---+------+\n",
      "|cID|    name|age|gender|\n",
      "+---+--------+---+------+\n",
      "|  1|   James| 21|     M|\n",
      "|  2|     Liz| 25|     F|\n",
      "|  3|    John| 31|     M|\n",
      "|  4|Jennifer| 45|     F|\n",
      "|  5|  Robert| 41|     M|\n",
      "|  6|  Sandra| 45|     F|\n",
      "+---+--------+---+------+\n",
      "\n"
     ]
    }
   ],
   "source": [
    "customers =  [(1,'James',21,'M'), (2, \"Liz\",25,\"F\"), (3, \"John\", 31, \"M\"),\\\n",
    "     (4, \"Jennifer\", 45, \"F\"), (5, \"Robert\", 41, \"M\"), (6, \"Sandra\", 45, \"F\")]\n",
    "df_customers = spark.createDataFrame(customers, [\"cID\", \"name\", \"age\", \"gender\"]) # list -> DF\n",
    "df_customers.show()\n"
   ]
  },
  {
   "cell_type": "code",
   "execution_count": 5,
   "metadata": {},
   "outputs": [
    {
     "name": "stdout",
     "output_type": "stream",
     "text": [
      "+---+-------+-----+----+\n",
      "|pId|   name|price|cost|\n",
      "+---+-------+-----+----+\n",
      "|  1| iPhone|  600| 400|\n",
      "|  2| Galaxy|  500| 400|\n",
      "|  3|   iPad|  400| 300|\n",
      "|  4| Kindel|  200| 100|\n",
      "|  5|MacBook| 1200| 900|\n",
      "|  6|   Dell|  500| 400|\n",
      "+---+-------+-----+----+\n",
      "\n"
     ]
    }
   ],
   "source": [
    "products = [(1, \"iPhone\", 600, 400), (2, \"Galaxy\", 500, 400), (3, \"iPad\", 400, 300),\\\n",
    "            (4, \"Kindel\",200,100), (5, \"MacBook\", 1200, 900), (6, \"Dell\",500, 400)]\n",
    "df_products = sc.parallelize(products).toDF([\"pId\", \"name\", \"price\", \"cost\"]) # List-> RDD ->DF\n",
    "df_products.show()"
   ]
  },
  {
   "cell_type": "code",
   "execution_count": 6,
   "metadata": {},
   "outputs": [
    {
     "name": "stdout",
     "output_type": "stream",
     "text": [
      "+----------+-------+-------+-------+\n",
      "|      date|product|country|revenue|\n",
      "+----------+-------+-------+-------+\n",
      "|01/01/2015| iPhone|    USA|  40000|\n",
      "|01/02/2015| iPhone|    USA|  30000|\n",
      "|01/02/2015| iPhone|  China|  10000|\n",
      "|01/02/2015| iPhone|  China|   5000|\n",
      "|01/01/2015|     S6|    USA|  20000|\n",
      "|01/02/2015|     S6|    USA|  10000|\n",
      "|01/01/2015|     S6|  China|   9000|\n",
      "|01/02/2015|     S6|  China|   6000|\n",
      "+----------+-------+-------+-------+\n",
      "\n"
     ]
    }
   ],
   "source": [
    "sales = [(\"01/01/2015\", \"iPhone\", \"USA\", 40000), (\"01/02/2015\", \"iPhone\", \"USA\", 30000),\\\n",
    "        (\"01/02/2015\", \"iPhone\", \"China\", 10000), (\"01/02/2015\", \"iPhone\", \"China\", 5000),\\\n",
    "        (\"01/01/2015\", \"S6\", \"USA\", 20000), (\"01/02/2015\", \"S6\", \"USA\", 10000),\\\n",
    "        (\"01/01/2015\", \"S6\", \"China\", 9000), (\"01/02/2015\", \"S6\", \"China\", 6000)]\n",
    "df_sales = spark.createDataFrame(sales, [\"date\", \"product\", \"country\", \"revenue\"])\n",
    "df_sales.show()"
   ]
  },
  {
   "cell_type": "code",
   "execution_count": 7,
   "metadata": {},
   "outputs": [
    {
     "data": {
      "text/plain": [
       "['cID', 'name', 'age', 'gender']"
      ]
     },
     "execution_count": 7,
     "metadata": {},
     "output_type": "execute_result"
    }
   ],
   "source": [
    "df_customers.columns # 查看列名"
   ]
  },
  {
   "cell_type": "code",
   "execution_count": 9,
   "metadata": {},
   "outputs": [
    {
     "name": "stdout",
     "output_type": "stream",
     "text": [
      "+---+-----+---+------+\n",
      "|cID| name|age|gender|\n",
      "+---+-----+---+------+\n",
      "|  1|James| 21|     M|\n",
      "|  2|  Liz| 25|     F|\n",
      "|  3| John| 31|     M|\n",
      "+---+-----+---+------+\n",
      "only showing top 3 rows\n",
      "\n"
     ]
    }
   ],
   "source": [
    "df_customers.show(3) #"
   ]
  },
  {
   "cell_type": "code",
   "execution_count": 10,
   "metadata": {},
   "outputs": [
    {
     "data": {
      "text/plain": [
       "[Row(cID=1, name='James', age=21, gender='M'),\n",
       " Row(cID=2, name='Liz', age=25, gender='F'),\n",
       " Row(cID=3, name='John', age=31, gender='M'),\n",
       " Row(cID=4, name='Jennifer', age=45, gender='F'),\n",
       " Row(cID=5, name='Robert', age=41, gender='M'),\n",
       " Row(cID=6, name='Sandra', age=45, gender='F')]"
      ]
     },
     "execution_count": 10,
     "metadata": {},
     "output_type": "execute_result"
    }
   ],
   "source": [
    "df_customers.collect()"
   ]
  },
  {
   "cell_type": "code",
   "execution_count": 11,
   "metadata": {},
   "outputs": [
    {
     "data": {
      "text/plain": [
       "DataFrame[summary: string, cID: string, name: string, age: string, gender: string]"
      ]
     },
     "execution_count": 11,
     "metadata": {},
     "output_type": "execute_result"
    }
   ],
   "source": [
    "df_customers.describe()"
   ]
  },
  {
   "cell_type": "code",
   "execution_count": 12,
   "metadata": {},
   "outputs": [
    {
     "data": {
      "text/plain": [
       "0.9298147235977955"
      ]
     },
     "execution_count": 12,
     "metadata": {},
     "output_type": "execute_result"
    }
   ],
   "source": [
    "df_customers.corr('cID', \"age\")"
   ]
  },
  {
   "cell_type": "code",
   "execution_count": 13,
   "metadata": {},
   "outputs": [
    {
     "name": "stdout",
     "output_type": "stream",
     "text": [
      "+---+------+\n",
      "|age|gender|\n",
      "+---+------+\n",
      "| 21|     M|\n",
      "| 25|     F|\n",
      "| 31|     M|\n",
      "| 45|     F|\n",
      "| 41|     M|\n",
      "| 45|     F|\n",
      "+---+------+\n",
      "\n"
     ]
    }
   ],
   "source": [
    "df_customers[['age','gender']].show()"
   ]
  },
  {
   "cell_type": "code",
   "execution_count": null,
   "metadata": {},
   "outputs": [],
   "source": [
    "#\n",
    "from pyspark import SparkContext, SparkConf\n",
    "from pyspark.sql import SparkSession\n",
    "import os\n",
    "os.environ[\"PYSPARK_PYTHON\"]=\"/Users/lonng/opt/anaconda3/python.app/Contents/MacOS/python\"\n",
    "\n",
    "spark = SparkSession \\\n",
    "    .builder \\\n",
    "    .appName(\"Python Spark SQL basic example\") \\\n",
    "    .config(\"spark.some.config.option\", \"some-value\") \\\n",
    "    .getOrCreate()"
   ]
  },
  {
   "cell_type": "code",
   "execution_count": 54,
   "metadata": {},
   "outputs": [
    {
     "name": "stdout",
     "output_type": "stream",
     "text": [
      "+----------+\n",
      "|     value|\n",
      "+----------+\n",
      "|      name|\n",
      "|       age|\n",
      "|   sex\n",
      "aki|\n",
      "|        25|\n",
      "|   male\n",
      "kk|\n",
      "|        27|\n",
      "|female\n",
      "daw|\n",
      "|        23|\n",
      "|    female|\n",
      "+----------+\n",
      "\n",
      "None\n",
      "+----------------+-------+------------+---------+\n",
      "|            city|city_id|      region|region_id|\n",
      "+----------------+-------+------------+---------+\n",
      "|    北京市朝阳区| 110105|      北京市|   110000|\n",
      "|    河北省保定市| 130600|      河北省|   130000|\n",
      "|    山西省晋城市| 140500|      山西省|   140000|\n",
      "|    山西省忻州市| 140900|      山西省|   140000|\n",
      "|    内蒙古包头市| 150200|内蒙古自治区|   150000|\n",
      "|    内蒙古乌海市| 150300|内蒙古自治区|   150000|\n",
      "|内蒙古鄂尔多斯市| 150600|内蒙古自治区|   150000|\n",
      "|内蒙古乌兰察布市| 150900|内蒙古自治区|   150000|\n",
      "|内蒙古锡林郭勒盟| 152500|内蒙古自治区|   150000|\n",
      "|    辽宁省鞍山市| 210300|      辽宁省|   210000|\n",
      "|    辽宁省丹东市| 210600|      辽宁省|   210000|\n",
      "|    辽宁省阜新市| 210900|      辽宁省|   210000|\n",
      "|    辽宁省辽阳市| 211000|      辽宁省|   210000|\n",
      "|    辽宁省盘锦市| 211100|      辽宁省|   210000|\n",
      "|    上海市闵行区| 310112|      上海市|   310000|\n",
      "|    江苏省南京市| 320100|      江苏省|   320000|\n",
      "|    江苏省徐州市| 320300|      江苏省|   320000|\n",
      "|    江苏省常州市| 320400|      江苏省|   320000|\n",
      "|    江苏省苏州市| 320500|      江苏省|   320000|\n",
      "|    江苏省南通市| 320600|      江苏省|   320000|\n",
      "+----------------+-------+------------+---------+\n",
      "only showing top 20 rows\n",
      "\n",
      "None\n",
      "root\n",
      " |-- city: string (nullable = true)\n",
      " |-- city_id: string (nullable = true)\n",
      " |-- region: string (nullable = true)\n",
      " |-- region_id: string (nullable = true)\n",
      "\n",
      "None\n"
     ]
    }
   ],
   "source": [
    "print(spark.read.text('/Users/lonng/test1.txt',lineSep=\" \").show())\n",
    "# print(spark.read.csv('/Users/lonng/城市代码.csv').show())\n",
    "doc = spark.read.format('csv').option('header','true').option('encoding','gbk').load('/Users/lonng/城市代码.csv')\n",
    "print(doc.show())\n",
    "print(doc.printSchema())"
   ]
  },
  {
   "cell_type": "code",
   "execution_count": 55,
   "metadata": {},
   "outputs": [
    {
     "name": "stdout",
     "output_type": "stream",
     "text": [
      "+------------+-------+------------+---------+\n",
      "|        city|city_id|      region|region_id|\n",
      "+------------+-------+------------+---------+\n",
      "|内蒙古包头市| 150200|内蒙古自治区|   150000|\n",
      "+------------+-------+------------+---------+\n",
      "\n",
      "None\n"
     ]
    }
   ],
   "source": [
    "print(doc.filter(doc.city_id==\"150200\").show())\n",
    "\n",
    "# print(doc.filter(\"SUBSTR(city_id)='1'\").show())"
   ]
  },
  {
   "cell_type": "code",
   "execution_count": 56,
   "metadata": {},
   "outputs": [
    {
     "name": "stdout",
     "output_type": "stream",
     "text": [
      "====*20\n",
      "+------------+-------+------+---------+\n",
      "|        city|city_id|region|region_id|\n",
      "+------------+-------+------+---------+\n",
      "|北京市朝阳区| 110105|北京市|   110000|\n",
      "+------------+-------+------+---------+\n",
      "\n",
      "None\n"
     ]
    }
   ],
   "source": [
    "doc.createOrReplaceTempView(\"sql1\")\n",
    "print(\"====*20\")\n",
    "print(spark.sql('select * from sql1 where region_id = 110000').show())\n",
    "#\n",
    "# sc = spark.sparkContext\n",
    "# #\n",
    "# doc2 = sc.textFile(\"/Users/lonng/test1.txt\")\n",
    "# doc2 = spark.createDataFrame(doc2)\n",
    "# print(doc2.show())\n",
    "#\n",
    "# l = [('Alice', 1)]\n",
    "# rdd = sc.parallelize(l)\n",
    "# df_rdd2 = spark.createDataFrame(rdd,['name', 'age'])\n",
    "# print(df_rdd2.show())"
   ]
  },
  {
   "cell_type": "markdown",
   "metadata": {},
   "source": [
    "排序"
   ]
  },
  {
   "cell_type": "code",
   "execution_count": 25,
   "metadata": {},
   "outputs": [
    {
     "name": "stdout",
     "output_type": "stream",
     "text": [
      "+--------------------------+-------+--------------+---------+\n",
      "|                      city|city_id|        region|region_id|\n",
      "+--------------------------+-------+--------------+---------+\n",
      "|                宁夏固原市| 640400|宁夏回族自治区|   640000|\n",
      "|              甘肃省庆阳市| 621000|        甘肃省|   620000|\n",
      "|              甘肃省张掖市| 620700|        甘肃省|   620000|\n",
      "|              甘肃省武威市| 620600|        甘肃省|   620000|\n",
      "|              陕西省商洛市| 611000|        陕西省|   610000|\n",
      "|              陕西省榆林市| 610800|        陕西省|   610000|\n",
      "|              陕西省延安市| 610600|        陕西省|   610000|\n",
      "|              陕西省咸阳市| 610400|        陕西省|   610000|\n",
      "|云南省德宏傣族景颇族自治州| 533100|        云南省|   530000|\n",
      "|      云南省大理白族自治州| 532900|        云南省|   530000|\n",
      "|  云南省文山壮族苗族自治州| 532600|        云南省|   530000|\n",
      "|              云南省楚雄市| 532301|        云南省|   530000|\n",
      "|              云南省临沧市| 530900|        云南省|   530000|\n",
      "|云南省普洱哈尼族彝族自治县| 530821|        云南省|   530000|\n",
      "|              云南省丽江市| 530700|        云南省|   530000|\n",
      "|              云南省昭通市| 530600|        云南省|   530000|\n",
      "|              云南省保山市| 530500|        云南省|   530000|\n",
      "|              云南省玉溪市| 530400|        云南省|   530000|\n",
      "|              云南省曲靖市| 530300|        云南省|   530000|\n",
      "|              四川省资阳市| 512000|        四川省|   510000|\n",
      "+--------------------------+-------+--------------+---------+\n",
      "only showing top 20 rows\n",
      "\n"
     ]
    }
   ],
   "source": [
    "doc.sort(doc.city_id.desc()).show()"
   ]
  },
  {
   "cell_type": "code",
   "execution_count": 26,
   "metadata": {},
   "outputs": [
    {
     "name": "stdout",
     "output_type": "stream",
     "text": [
      "+--------------------------+-------+--------------+---------+\n",
      "|                      city|city_id|        region|region_id|\n",
      "+--------------------------+-------+--------------+---------+\n",
      "|                宁夏固原市| 640400|宁夏回族自治区|   640000|\n",
      "|              甘肃省庆阳市| 621000|        甘肃省|   620000|\n",
      "|              甘肃省张掖市| 620700|        甘肃省|   620000|\n",
      "|              甘肃省武威市| 620600|        甘肃省|   620000|\n",
      "|              陕西省商洛市| 611000|        陕西省|   610000|\n",
      "|              陕西省榆林市| 610800|        陕西省|   610000|\n",
      "|              陕西省延安市| 610600|        陕西省|   610000|\n",
      "|              陕西省咸阳市| 610400|        陕西省|   610000|\n",
      "|云南省德宏傣族景颇族自治州| 533100|        云南省|   530000|\n",
      "|      云南省大理白族自治州| 532900|        云南省|   530000|\n",
      "|  云南省文山壮族苗族自治州| 532600|        云南省|   530000|\n",
      "|              云南省楚雄市| 532301|        云南省|   530000|\n",
      "|              云南省临沧市| 530900|        云南省|   530000|\n",
      "|云南省普洱哈尼族彝族自治县| 530821|        云南省|   530000|\n",
      "|              云南省丽江市| 530700|        云南省|   530000|\n",
      "|              云南省昭通市| 530600|        云南省|   530000|\n",
      "|              云南省保山市| 530500|        云南省|   530000|\n",
      "|              云南省玉溪市| 530400|        云南省|   530000|\n",
      "|              云南省曲靖市| 530300|        云南省|   530000|\n",
      "|              四川省资阳市| 512000|        四川省|   510000|\n",
      "+--------------------------+-------+--------------+---------+\n",
      "only showing top 20 rows\n",
      "\n",
      "None\n"
     ]
    }
   ],
   "source": [
    "print(doc.sort(\"city_id\",ascending=False).show())"
   ]
  },
  {
   "cell_type": "markdown",
   "metadata": {},
   "source": [
    "字符串匹配"
   ]
  },
  {
   "cell_type": "code",
   "execution_count": 23,
   "metadata": {},
   "outputs": [
    {
     "name": "stdout",
     "output_type": "stream",
     "text": [
      "+------------+-------+------+---------+\n",
      "|        city|city_id|region|region_id|\n",
      "+------------+-------+------+---------+\n",
      "|北京市朝阳区| 110105|北京市|   110000|\n",
      "+------------+-------+------+---------+\n",
      "\n",
      "None\n"
     ]
    }
   ],
   "source": [
    "print(doc.filter(\"city_id like '110%'\").show())"
   ]
  },
  {
   "cell_type": "markdown",
   "metadata": {},
   "source": [
    "# 分组"
   ]
  },
  {
   "cell_type": "code",
   "execution_count": 40,
   "metadata": {},
   "outputs": [],
   "source": [
    "aa=doc.groupBy(\"region\").count()"
   ]
  },
  {
   "cell_type": "code",
   "execution_count": 42,
   "metadata": {},
   "outputs": [
    {
     "name": "stdout",
     "output_type": "stream",
     "text": [
      "+--------------+-----+\n",
      "|        region|count|\n",
      "+--------------+-----+\n",
      "|        北京市|    1|\n",
      "|        辽宁省|    5|\n",
      "|        浙江省|   11|\n",
      "|        重庆市|    1|\n",
      "|        河北省|    1|\n",
      "|        福建省|    5|\n",
      "|        湖南省|    2|\n",
      "|宁夏回族自治区|    1|\n",
      "|        陕西省|    4|\n",
      "|        山西省|    2|\n",
      "|  内蒙古自治区|    5|\n",
      "|        甘肃省|    3|\n",
      "|        四川省|    7|\n",
      "|        广东省|   11|\n",
      "|        山东省|    9|\n",
      "|        河南省|    1|\n",
      "|        上海市|    1|\n",
      "|        江西省|   13|\n",
      "|        安徽省|   14|\n",
      "|        江苏省|   12|\n",
      "+--------------+-----+\n",
      "only showing top 20 rows\n",
      "\n"
     ]
    }
   ],
   "source": [
    "aa.show()"
   ]
  },
  {
   "cell_type": "code",
   "execution_count": 45,
   "metadata": {},
   "outputs": [],
   "source": [
    "bb=doc.groupBy(\"region\").agg({\"city_id\":\"count\"})"
   ]
  },
  {
   "cell_type": "code",
   "execution_count": 46,
   "metadata": {},
   "outputs": [
    {
     "name": "stdout",
     "output_type": "stream",
     "text": [
      "+--------------+--------------+\n",
      "|        region|count(city_id)|\n",
      "+--------------+--------------+\n",
      "|        北京市|             1|\n",
      "|        辽宁省|             5|\n",
      "|        浙江省|            11|\n",
      "|        重庆市|             1|\n",
      "|        河北省|             1|\n",
      "|        福建省|             5|\n",
      "|        湖南省|             2|\n",
      "|宁夏回族自治区|             1|\n",
      "|        陕西省|             4|\n",
      "|        山西省|             2|\n",
      "|  内蒙古自治区|             5|\n",
      "|        甘肃省|             3|\n",
      "|        四川省|             7|\n",
      "|        广东省|            11|\n",
      "|        山东省|             9|\n",
      "|        河南省|             1|\n",
      "|        上海市|             1|\n",
      "|        江西省|            13|\n",
      "|        安徽省|            14|\n",
      "|        江苏省|            12|\n",
      "+--------------+--------------+\n",
      "only showing top 20 rows\n",
      "\n"
     ]
    }
   ],
   "source": [
    "bb.show()"
   ]
  }
 ],
 "metadata": {
  "kernelspec": {
   "display_name": "Python 3",
   "language": "python",
   "name": "python3"
  },
  "language_info": {
   "codemirror_mode": {
    "name": "ipython",
    "version": 3
   },
   "file_extension": ".py",
   "mimetype": "text/x-python",
   "name": "python",
   "nbconvert_exporter": "python",
   "pygments_lexer": "ipython3",
   "version": "3.7.4"
  }
 },
 "nbformat": 4,
 "nbformat_minor": 2
}
